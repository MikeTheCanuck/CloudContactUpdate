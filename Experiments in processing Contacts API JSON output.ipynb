{
 "cells": [
  {
   "cell_type": "markdown",
   "metadata": {},
   "source": [
    "Let's try attaching the collection of data and get a count of nodes:"
   ]
  },
  {
   "cell_type": "code",
   "execution_count": null,
   "metadata": {
    "collapsed": false
   },
   "outputs": [],
   "source": [
    "import json\n",
    "import os\n",
    "import time\n",
    "\n",
    "contacts_file = open(\"Connections-API-results-600+.json\")\n",
    "contacts_data = contacts_file.read()\n",
    "contacts_json = json.loads(contacts_data)\n",
    "contacts_list = contacts_json['values']"
   ]
  },
  {
   "cell_type": "code",
   "execution_count": null,
   "metadata": {
    "collapsed": false
   },
   "outputs": [],
   "source": [
    "len(contacts_list)"
   ]
  },
  {
   "cell_type": "markdown",
   "metadata": {},
   "source": [
    "Now let's figure out how to format the epoch date in ms to YYYY-mm-dd:"
   ]
  },
  {
   "cell_type": "code",
   "execution_count": null,
   "metadata": {
    "collapsed": false
   },
   "outputs": [],
   "source": [
    "import time\n",
    "print(time.strftime(\"%Y-%m-%d\", time.localtime(contacts_list[15]['connectionDate'] / 1000)))"
   ]
  },
  {
   "cell_type": "markdown",
   "metadata": {},
   "source": [
    "OK, now let's process the data into clean strings I can work with.  In processing the LinkedIn Contacts data, I'm having to recalculate four fields that have extraneous data I don't want: connectionDate, profileImageUrl, tags and phoneNumber."
   ]
  },
  {
   "cell_type": "code",
   "execution_count": null,
   "metadata": {
    "collapsed": false
   },
   "outputs": [],
   "source": [
    "stripped_down_connections_list = []\n",
    "\n",
    "for contact in contacts_list:\n",
    "    name = contact['name']\n",
    "    first_name = contact['firstName']\n",
    "    last_name = contact['lastName']\n",
    "    title = contact['title']\n",
    "    company = contact['company']['name']\n",
    "    date_first_connected = time.strftime(\"%Y-%m-%d\", time.localtime(contact['connectionDate'] / 1000))\n",
    "\n",
    "    picture_url = \"\"\n",
    "    try:\n",
    "        picture_url = contact['profileImageUrl']\n",
    "    except KeyError:\n",
    "        pass\n",
    "\n",
    "    tags = []\n",
    "#    try:\n",
    "    for i in range(len(contact['tags'])):\n",
    "        tags.append(contact['tags'][i]['name'])\n",
    "#    except:\n",
    "#        pass\n",
    "\n",
    "    phone_number = \"\"\n",
    "    try:\n",
    "        phone_number = {\"type\" : contact['phoneNumbers'][0]['type'], \n",
    "                        \"number\" : contact['phoneNumbers'][0]['number']}\n",
    "    except IndexError:\n",
    "        pass\n",
    "\n",
    "    stripped_down_connections_list.append({\"firstName\" : contact['firstName'], \n",
    "                                           \"lastName\" : contact['lastName'], \n",
    "                                           \"title\" : contact['title'], \n",
    "                                           \"company\" : contact['company']['name'],\n",
    "                                           \"connectionDate\" : date_first_connected, \n",
    "                                           \"profileImageUrl\" : picture_url,\n",
    "                                           \"tags\" : tags,\n",
    "                                           \"phoneNumber\" : phone_number,})\n",
    "print(stripped_down_connections_list)"
   ]
  }
 ],
 "metadata": {
  "anaconda-cloud": {},
  "kernelspec": {
   "display_name": "Python 3",
   "language": "python",
   "name": "python3"
  },
  "language_info": {
   "codemirror_mode": {
    "name": "ipython",
    "version": 3
   },
   "file_extension": ".py",
   "mimetype": "text/x-python",
   "name": "python",
   "nbconvert_exporter": "python",
   "pygments_lexer": "ipython3",
   "version": "3.5.2"
  }
 },
 "nbformat": 4,
 "nbformat_minor": 1
}
