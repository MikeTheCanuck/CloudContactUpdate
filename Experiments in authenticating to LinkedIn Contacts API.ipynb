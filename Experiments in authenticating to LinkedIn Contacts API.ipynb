{
 "cells": [
  {
   "cell_type": "markdown",
   "metadata": {},
   "source": [
    "# Various LinkedIn authentication attempts\n",
    "\n",
    "As of this writing, none of these approaches succeeds in authenticating to the LinkedIn Contacts API"
   ]
  },
  {
   "cell_type": "markdown",
   "metadata": {},
   "source": [
    "This was my first attempt to understand the cookie-based authentication used by most LinkedIn pages.  This allowed me to discover the lidc cookie:"
   ]
  },
  {
   "cell_type": "code",
   "execution_count": null,
   "metadata": {
    "collapsed": true
   },
   "outputs": [],
   "source": [
    "import requests\n",
    "email = 'REPLACE_ME'\n",
    "password = 'REPLACE_ME'"
   ]
  },
  {
   "cell_type": "code",
   "execution_count": null,
   "metadata": {
    "collapsed": true
   },
   "outputs": [],
   "source": [
    "r = requests.get('https://www.linkedin.com', auth=(email, password))"
   ]
  },
  {
   "cell_type": "code",
   "execution_count": null,
   "metadata": {
    "collapsed": false
   },
   "outputs": [],
   "source": [
    "r.status_code"
   ]
  },
  {
   "cell_type": "code",
   "execution_count": null,
   "metadata": {
    "collapsed": false
   },
   "outputs": [],
   "source": [
    "r.cookies['lidc']"
   ]
  },
  {
   "cell_type": "markdown",
   "metadata": {},
   "source": [
    "NOTES:\n",
    "\n",
    "\n",
    "Cookie that results in 200 status:\n",
    "\"b=OB69:g=61:u=183:i=1482278326:t=1482287530:s=AQHDTpXv6CLdihag8_dlKDlMdVt5mQBj\"\t\n",
    "\n",
    "Cookie that results in 401 status:\n",
    "\"b=OGST00:g=43:u=1:i=1482278770:t=1482365170:s=AQED7FbwWR3PM4pp2jhve3wCmI9lQXmG\"\n",
    "\n",
    "Cookie that results in 200 status:\n",
    "\"b=OB69:g=61:u=183:i=1482278884:t=1482287530:s=AQEP_-YzK7aGOGTQIHom7i28j6aeREnl\""
   ]
  },
  {
   "cell_type": "markdown",
   "metadata": {},
   "source": [
    "Here's one attempt to brute-force my way into the Contacts API:"
   ]
  },
  {
   "cell_type": "code",
   "execution_count": null,
   "metadata": {
    "collapsed": false
   },
   "outputs": [],
   "source": [
    "url = 'https://www.linkedin.com/connected/api/v2/contacts?start=40&count=10&fields=id%2Cname%2CfirstName%2ClastName%2Ccompany%2Ctitle%2Clocation%2Ctags%2Cemails%2Csources%2CdisplaySources%2CconnectionDate%2CsecureProfileImageUrl&sort=CREATED_DESC&_=1481999304007'\n",
    "cookies = dict(lidc=\"b=OB69:g=61:u=183:i=1482278884:t=1482287530:s=AQEP_-YzK7aGOGTQIHom7i28j6aeREnl\")\n",
    "r2 = requests.get(url, cookies=cookies)"
   ]
  },
  {
   "cell_type": "code",
   "execution_count": null,
   "metadata": {
    "collapsed": false
   },
   "outputs": [],
   "source": [
    "r2.status_code"
   ]
  },
  {
   "cell_type": "markdown",
   "metadata": {},
   "source": [
    "Here's another approach bastardized from this article:\n",
    "http://stackoverflow.com/questions/25214959/cookie-authentication-with-python-requests#25218910\n",
    "\n",
    "and this Requests documentation on the Session object: \n",
    "http://docs.python-requests.org/en/master/user/advanced/"
   ]
  },
  {
   "cell_type": "code",
   "execution_count": null,
   "metadata": {
    "collapsed": false
   },
   "outputs": [],
   "source": [
    "url1 = 'https://www.linkedin.com'\n",
    "url2 = 'https://www.linkedin.com/connected/api/v2/contacts?start=40&count=10&fields=id%2Cname%2CfirstName%2ClastName%2Ccompany%2Ctitle%2Clocation%2Ctags%2Cemails%2Csources%2CdisplaySources%2CconnectionDate%2CsecureProfileImageUrl&sort=CREATED_DESC&_=1481999304007'\n",
    "s = requests.Session()\n",
    "s.get(url1, auth=(email, password))\n",
    "print(s.cookies)"
   ]
  },
  {
   "cell_type": "code",
   "execution_count": null,
   "metadata": {
    "collapsed": false
   },
   "outputs": [],
   "source": [
    "s.get(url2)"
   ]
  },
  {
   "cell_type": "code",
   "execution_count": null,
   "metadata": {
    "collapsed": true
   },
   "outputs": [],
   "source": [
    "s.status_code"
   ]
  },
  {
   "cell_type": "markdown",
   "metadata": {},
   "source": [
    "Here's another approach bastardized from this article:\n",
    "http://stackoverflow.com/questions/18907503/logging-in-to-linkedin-with-python-requests-sessions#18908282"
   ]
  },
  {
   "cell_type": "code",
   "execution_count": null,
   "metadata": {
    "collapsed": false
   },
   "outputs": [],
   "source": [
    "import requests\n",
    "from bs4 import BeautifulSoup\n",
    "\n",
    "homepage_url = 'https://www.linkedin.com'\n",
    "login_url = 'https://www.linkedin.com/uas/login'\n",
    "contacts_search_url = 'https://www.linkedin.com/connected/api/v2/contacts?start=40&count=10&fields=id%2Cname%2CfirstName%2ClastName%2Ccompany%2Ctitle%2Clocation%2Ctags%2Cemails%2Csources%2CdisplaySources%2CconnectionDate%2CsecureProfileImageUrl&sort=CREATED_DESC&_=1481999304007'\n",
    "\n",
    "client = requests.Session()\n",
    "\n",
    "homepage_html = client.get(homepage_url).content\n",
    "soup = BeautifulSoup(homepage_html)\n",
    "csrf_token = soup.find(id='loginCsrfParam-login')['value']\n",
    "\n",
    "auth_payload = {\n",
    "    'session_key' : email,\n",
    "    'session_password' : password, \n",
    "    'loginCsrfParam' : csrf_token,\n",
    "}\n",
    "\n",
    "#print(csrf_token)\n",
    "\n",
    "#r = client.post(login_url, data=auth_payload)\n",
    "#r.text\n",
    "\n",
    "client.post(login_url, data=auth_payload)\n",
    "client.get(contacts_search_url)"
   ]
  },
  {
   "cell_type": "markdown",
   "metadata": {},
   "source": [
    "Notes: it's quite possible there's another cookie involved in authenticating to the LinkedIn Contacts API, or perhaps some alternative method of authenticating.  The lidc cookie, and that combined with the CSRF token, didn't seem to have any effect.\n",
    "\n",
    "It's also possible I just don't have the correct construction of the request, and that the data provided would work fine if asserted correctly."
   ]
  }
 ],
 "metadata": {
  "anaconda-cloud": {},
  "kernelspec": {
   "display_name": "Python 3",
   "language": "python",
   "name": "python3"
  },
  "language_info": {
   "codemirror_mode": {
    "name": "ipython",
    "version": 3
   },
   "file_extension": ".py",
   "mimetype": "text/x-python",
   "name": "python",
   "nbconvert_exporter": "python",
   "pygments_lexer": "ipython3",
   "version": "3.5.2"
  }
 },
 "nbformat": 4,
 "nbformat_minor": 1
}
