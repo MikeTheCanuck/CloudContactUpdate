{
 "cells": [
  {
   "cell_type": "markdown",
   "metadata": {},
   "source": [
    "Here we cache the credentials that I haven't stored in my keyring yet:"
   ]
  },
  {
   "cell_type": "code",
   "execution_count": null,
   "metadata": {
    "collapsed": true
   },
   "outputs": [],
   "source": [
    "APPLE_ID = 'REPLACE@ME.COM'\n",
    "APPLE_PASSWORD = 'REPLACEME'"
   ]
  },
  {
   "cell_type": "markdown",
   "metadata": {},
   "source": [
    "This method of using PyiCloud authentication doesn't quite work:"
   ]
  },
  {
   "cell_type": "code",
   "execution_count": null,
   "metadata": {
    "collapsed": false
   },
   "outputs": [],
   "source": [
    "# Py3.5 pattern from http://stackoverflow.com/questions/67631/how-to-import-a-module-given-the-full-path\n",
    "import importlib.util\n",
    "spec = importlib.util.spec_from_file_location(\"pyicloud\", \"../pyicloud/pyicloud/__init__.py\")\n",
    "foo = importlib.util.module_from_spec(spec)\n",
    "spec.loader.exec_module(foo)\n",
    "api = foo.PyiCloudService(APPLE_ID, APPLE_PASSWORD)"
   ]
  },
  {
   "cell_type": "markdown",
   "metadata": {},
   "source": [
    "This method of using PyiCloud authentication appears to work consistently:"
   ]
  },
  {
   "cell_type": "code",
   "execution_count": null,
   "metadata": {
    "collapsed": false
   },
   "outputs": [],
   "source": [
    "# Py3.3/3.4 pattern from pattern from http://stackoverflow.com/questions/67631/how-to-import-a-module-given-the-full-path\n",
    "from importlib.machinery import SourceFileLoader\n",
    "\n",
    "foo = SourceFileLoader(\"pyicloud\", \"/Users/mike/code/pyicloud/pyicloud/__init__.py\").load_module()\n",
    "api = foo.PyiCloudService(APPLE_ID, APPLE_PASSWORD)"
   ]
  },
  {
   "cell_type": "markdown",
   "metadata": {},
   "source": [
    "And here's the add-on code (supplied by picklepete) that I need to successfully get through 2-factor authentication:"
   ]
  },
  {
   "cell_type": "code",
   "execution_count": null,
   "metadata": {
    "collapsed": false
   },
   "outputs": [],
   "source": [
    "#Two-factor authentication code appropriated from https://github.com/picklepete/pyicloud/blob/master/README.rst\n",
    "if api.requires_2fa:\n",
    "    import click\n",
    "    print(\"Two-factor authentication required. Your trusted devices are:\")\n",
    "\n",
    "    devices = api.trusted_devices\n",
    "    for i, device in enumerate(devices):\n",
    "        print(\"  %s: %s\" % (i, device.get('deviceName',\n",
    "            \"SMS to %s\" % device.get('phoneNumber'))))\n",
    "\n",
    "    device = click.prompt('Which device would you like to use?', default=0)\n",
    "    device = devices[device]\n",
    "    if not api.send_verification_code(device):\n",
    "        print(\"Failed to send verification code\")\n",
    "        sys.exit(1)\n",
    "\n",
    "    code = click.prompt('Please enter validation code')\n",
    "    if not api.validate_verification_code(device, code):\n",
    "        print(\"Failed to verify verification code\")\n",
    "        sys.exit(1)"
   ]
  }
 ],
 "metadata": {
  "anaconda-cloud": {},
  "kernelspec": {
   "display_name": "Python 3",
   "language": "python",
   "name": "python3"
  },
  "language_info": {
   "codemirror_mode": {
    "name": "ipython",
    "version": 3
   },
   "file_extension": ".py",
   "mimetype": "text/x-python",
   "name": "python",
   "nbconvert_exporter": "python",
   "pygments_lexer": "ipython3",
   "version": "3.5.2"
  }
 },
 "nbformat": 4,
 "nbformat_minor": 1
}
